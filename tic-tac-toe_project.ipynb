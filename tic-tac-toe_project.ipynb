{
 "cells": [
  {
   "cell_type": "code",
   "execution_count": 16,
   "id": "ccd07fda",
   "metadata": {},
   "outputs": [
    {
     "name": "stdout",
     "output_type": "stream",
     "text": [
      "-  | -  | -\n",
      "-  | -  | -\n",
      "-  | -  | -\n"
     ]
    }
   ],
   "source": [
    "# global variable\n",
    "game_going=True\n",
    "\n",
    "tic_board=['-','-','-',\n",
    "   '-','-','-',\n",
    "   '-','-','-']\n",
    "def display_grid_board():\n",
    "    print(tic_board[0],\" |\",tic_board[1],\" |\",tic_board[2])\n",
    "    print(tic_board[3],\" |\",tic_board[4],\" |\",tic_board[5])\n",
    "    print(tic_board[6],\" |\",tic_board[7],\" |\",tic_board[8])\n",
    "    \n",
    "    \n",
    "display_grid_board()"
   ]
  },
  {
   "cell_type": "code",
   "execution_count": 17,
   "id": "9489dda4",
   "metadata": {},
   "outputs": [],
   "source": [
    "player_1='x'\n",
    "player_2='o'\n",
    "\n",
    "\n",
    "\n",
    "def move_player_1():\n",
    "    print(\"this turn of player_1 'x'\")\n",
    "    positon =int(input('choose the position 0-8 : '))\n",
    "    if tic_board[positon] =='-':\n",
    "        tic_board[positon]='x'\n",
    "    else:\n",
    "        print(\"invalid and busy position\")\n",
    "        positon =int(input('choose the position 0-8 : '))\n",
    "        tic_board[positon]='x'\n",
    "        \n",
    "\n",
    "    \n",
    "\n",
    "def move_player_2():\n",
    "    print(\"this turn of player_2 'o'\")\n",
    "    positon =int(input('choose the position 0-8 : '))\n",
    "    if tic_board[positon] =='-':\n",
    "        tic_board[positon]='o'\n",
    "    else:\n",
    "        print(\"invalid and busy position\")\n",
    "        positon =int(input('choose the position 0-8 : '))\n",
    "        tic_board[positon]='x'    \n",
    "        \n"
   ]
  },
  {
   "cell_type": "code",
   "execution_count": 18,
   "id": "319a39a4",
   "metadata": {},
   "outputs": [],
   "source": [
    "# check if any rows equals or columns or diagonal\n",
    "global winner\n",
    "def check_win():\n",
    "    global winner\n",
    "    global game_going\n",
    "   # check rows      \n",
    "    if tic_board[0]==tic_board[1]==tic_board[2]!='-':\n",
    "        game_going=False\n",
    "        winner= tic_board[0]\n",
    "        \n",
    "    if tic_board[3]==tic_board[4]==tic_board[5]!='-':  \n",
    "        game_going=False\n",
    "        winner= tic_board[3]\n",
    "        \n",
    "    if tic_board[6]==tic_board[7]==tic_board[8]!='-':\n",
    "        game_going=False\n",
    "        winner= tic_board[6]\n",
    "    #check columns    \n",
    "    if tic_board[0] ==tic_board[3] ==tic_board[6] !='-':\n",
    "        game_going=False\n",
    "        winner= tic_board[0]\n",
    "        \n",
    "    if tic_board[1] ==tic_board[4] ==tic_board[7] !='-':\n",
    "        game_going=False\n",
    "        winner= tic_board[1]\n",
    "        \n",
    "    if tic_board[2] ==tic_board[5] ==tic_board[8] !='-':\n",
    "        game_going=False\n",
    "        winner= tic_board[2]\n",
    "    #check diagonals    \n",
    "    if tic_board[0] ==tic_board[4] ==tic_board[8] !='-':\n",
    "        game_going=False \n",
    "        winner= tic_board[0]\n",
    "        \n",
    "    if tic_board[2] ==tic_board[4] ==tic_board[6] !='-':\n",
    "        game_going=False  \n",
    "        winner= tic_board[2]\n",
    "    return    \n",
    "        \n",
    "\n",
    "   \n",
    "        "
   ]
  },
  {
   "cell_type": "code",
   "execution_count": 19,
   "id": "b3fa1562",
   "metadata": {},
   "outputs": [],
   "source": [
    "def check_Tie():\n",
    "    global game_going\n",
    "    global winner\n",
    "    if '-' not in tic_board:\n",
    "        game_going=False\n",
    "        winner=None\n",
    "    return   \n",
    "        "
   ]
  },
  {
   "cell_type": "code",
   "execution_count": 20,
   "id": "60f41c01",
   "metadata": {},
   "outputs": [
    {
     "name": "stdout",
     "output_type": "stream",
     "text": [
      "this turn of player_1 'x'\n",
      "choose the position 0-8 : 0\n",
      "x  | -  | -\n",
      "-  | -  | -\n",
      "-  | -  | -\n",
      "this turn of player_2 'o'\n",
      "choose the position 0-8 : 8\n",
      "x  | -  | -\n",
      "-  | -  | -\n",
      "-  | -  | o\n",
      "this turn of player_1 'x'\n",
      "choose the position 0-8 : 6\n",
      "x  | -  | -\n",
      "-  | -  | -\n",
      "x  | -  | o\n",
      "this turn of player_2 'o'\n",
      "choose the position 0-8 : 3\n",
      "x  | -  | -\n",
      "o  | -  | -\n",
      "x  | -  | o\n",
      "this turn of player_1 'x'\n",
      "choose the position 0-8 : 4\n",
      "x  | -  | -\n",
      "o  | x  | -\n",
      "x  | -  | o\n",
      "this turn of player_2 'o'\n",
      "choose the position 0-8 : 7\n",
      "x  | -  | -\n",
      "o  | x  | -\n",
      "x  | o  | o\n",
      "this turn of player_1 'x'\n",
      "choose the position 0-8 : 2\n",
      "x  | -  | x\n",
      "o  | x  | -\n",
      "x  | o  | o\n",
      "x won \n"
     ]
    }
   ],
   "source": [
    "while game_going!=False:  \n",
    "        \n",
    "        move_player_1()\n",
    "        display_grid_board()\n",
    "        check_win()\n",
    "        check_Tie()\n",
    "        if game_going==False:\n",
    "            break\n",
    "        move_player_2()\n",
    "        display_grid_board()\n",
    "        check_win()\n",
    "        check_Tie()\n",
    "       #print('game_going =  ',game_going )\n",
    "        \n",
    "        \n",
    "        \n",
    "        \n",
    "        \n",
    "if winner=='x' or winner=='o':\n",
    "    print(winner+' won ')\n",
    "elif winner==None:\n",
    "    print('Tie')"
   ]
  },
  {
   "cell_type": "code",
   "execution_count": 16,
   "id": "25e3255a",
   "metadata": {},
   "outputs": [],
   "source": [
    "\n",
    "        \n",
    "        "
   ]
  }
 ],
 "metadata": {
  "kernelspec": {
   "display_name": "Python 3 (ipykernel)",
   "language": "python",
   "name": "python3"
  },
  "language_info": {
   "codemirror_mode": {
    "name": "ipython",
    "version": 3
   },
   "file_extension": ".py",
   "mimetype": "text/x-python",
   "name": "python",
   "nbconvert_exporter": "python",
   "pygments_lexer": "ipython3",
   "version": "3.11.3"
  }
 },
 "nbformat": 4,
 "nbformat_minor": 5
}
